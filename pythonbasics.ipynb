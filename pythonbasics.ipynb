{
  "nbformat": 4,
  "nbformat_minor": 0,
  "metadata": {
    "colab": {
      "provenance": []
    },
    "kernelspec": {
      "name": "python3",
      "display_name": "Python 3"
    },
    "language_info": {
      "name": "python"
    }
  },
  "cells": [
    {
      "cell_type": "markdown",
      "source": [
        "Python Basics questions\n"
      ],
      "metadata": {
        "id": "Wgz8ssJACzJN"
      }
    },
    {
      "cell_type": "markdown",
      "source": [
        " 1. What is Python, and why is it popular?\n",
        "   - Python is a high-level, general-purpose programming language known for its simplicity, readability, and versatility. It is a free and open source programming language, created Guido van Rossum and first released in 1991.\n",
        "    \n",
        "     Reasons for python to be popular:\n",
        "     - Easy to learn and use as the syntax is clean and similar to English, making it beginner-friendly.\n",
        "     - One of the most versatile programming language as its applications are\n",
        "     Web development (Django, Flask), Data Analysis & Machine learning (Pandas, Numpy, scikit-learn), Automation & Scripting, Cybersecurity, Game development (pygame), IoT and robotics, AI and Deep learning (TensorFlow, PyTorch)\n",
        "     - Has massive global community, tons of tutorials, forums, libraries and tools available and that is open source and regularly updated.\n",
        "     - Supports multiple programming paradigms.\n",
        "     - Cross-platform means code once run anywhere,it runs on Windows, Mac, Linux and even mobile and embedded systems.\n",
        "     - Strong Libraries and Frameworks, Python has rich libraries for nearly every task, for ex- Data: pandas,Numpy , AI: TenserFlow,PyTorch , Web: Flask,Django , APIs: requests, FastAPI.\n",
        "\n",
        "     Python is seen as the future as big companies like Google, Netflix, Instagram, Spotify, NASA use it and in fields like- Engineering, Data Science and Data Analytics, Finance, Healthcare, Academia.\n",
        "  \n",
        "\n",
        "2. What is an interpreter in Python?\n",
        "   - In Python, an interpreter is a program that executes Python code directly, without needing to compile it into machine code first. It reads the source code line by line, analyzes it, and then executes the instructions. If there are any errors, the interpreter will stop and report them. Python is considered an interpreted language because it relies on an interpreter to run its code.\n",
        "\n",
        "     It is important as user does not has to compile Python code manually (unlike C, C++), it makes Python dynamic and flexible and it is great for testing, prototyping and interactive coding (like Jupyter Notebooks or the Python shell).\n",
        "\n",
        "     When error handling it stops at first error and gives output immediately.\n",
        "     Examples: CPython, PyPy, Jython, IronPython.\n",
        "\n",
        "3. What are pre-defined keywords in Python?\n",
        "   - Pre-defined keywords in Python are reserved words that have special meaning to the Python interpreter. They cannot be used as variable names, function names, or identifiers, because they are part of the language syntax.\n",
        "    \n",
        "     Pre-defined keywords define the structure, flow, and rules of Python programs- like if, for, class, def etc. Some common Python Keywords are if, else, elif, for, while, break, continue, def, return, class, import etc.\n",
        "     \n",
        "     The Syntax to see all keywords in Python is:\n",
        "     \n",
        "      import keyword\n",
        "      print(keyword.kwlist)\n",
        "\n",
        "4. Can keywords be used as variable names?\n",
        "   - No, keywords cannot be used as variable names in Python.\n",
        "     Keywords are reserved words in a programming language that have predefined meanings and are used to define the language's syntax and structure. Using them as variable names would lead to syntax errors because the compiler or interpreter would interpret them as language keywords rather than variable names.\n",
        "\n",
        "5. What is mutability in Python?\n",
        "   - Mutability in Python refers to whether an object's value can be change  after it is created. If an object can be modified, is called mutable.\n",
        "    \n",
        "      Mutable Objects can be modified in-place after their creation. This means you can add, remove, or change elements within the existing object without creating a new object in memory.Understanding mutability is important because it affects how data behaves in memory, especially when passing variables into functions. Examples of mutable data types in Python include:\n",
        "      - Lists: You can append, insert, remove, or modify elements of a list.\n",
        "      - Dictionaries: You can add, remove, or modify key-value pairs.\n",
        "      - Sets: You can add or remove elements.\n",
        "\n",
        "      Key implications of Mutability:\n",
        "      Memory Efficiency, Aliasing and Side Effects, Function Arguments.\n",
        "\n",
        "6. Why are lists mutable, but tuples are immutable?\n",
        "   - Lists are mutable because Lists in Python are designed to be flexible and dynamic, here you can\n",
        "     - Add, remove, or change elements\n",
        "     - Resize the list\n",
        "     - Modify items at any position\n",
        "\n",
        "     This is because lists are stored in a way that allows in-place modifications. Their memory structure supports direct updates, which makes them mutable.\n",
        "\n",
        "   - Tuples are meant to be fixed collections of items. Once created:\n",
        "     - You cannot change, add, or remove elements\n",
        "     - They're often used when data must not be accidentally changed\n",
        "\n",
        "     This immutability helps make tuples faster, hashable (usable as dictionary keys), and safer when dealing with constant or read-only data.\n",
        "\n",
        "7. What is the difference between “==” and “is” operators in Python?\n",
        "   - In Python, the == and 'is' operators are used for comparison,\n",
        "     but they serve distinct purposes, == compares values and is compares memory addresses (identity):\n",
        "\n",
        "     - == (Equality Operator): This operator compares the values of two objects. It checks if the content or data held by the objects is the same.\n",
        "     When you use ==, Python essentially asks,  \"Do these two objects have the same value?\"\n",
        "      \n",
        "       Example:\n",
        "\n",
        "               a = [1, 2, 3]\n",
        "\n",
        "               b = [1, 2, 3]\n",
        "\n",
        "               print(a == b)\n",
        "\n",
        "          Output: True (because their values are the same)\n",
        "\n",
        "     - is (Identity Operator): This operator checks for object identity. It determines whether two variables refer to the exact same object in memory. When you use is, Python asks, \"Are these two variables pointing to the very same memory location?\"\n",
        "\n",
        "       Example:\n",
        "        \n",
        "               a = [1, 2, 3]\n",
        "\n",
        "               b = [1, 2, 3]\n",
        "\n",
        "               print(a is b)\n",
        "\n",
        "          Output: False (because they are distinct objects in memory, even with the same value)\n",
        "\n",
        "               c = a\n",
        "\n",
        "               print(a is c)\n",
        "\n",
        "          Output: True (because 'c' now refers to the same object as 'a')\n",
        "           \n",
        "8. What are logical operators in Python?\n",
        "    - Logical operators in Python are used to combine or compare multiple   conditions that return Boolean values (True or False). The three main logical operators are and, or, and not.\n",
        "\n",
        "     The 'and' operator returns True only if both conditions are true. The 'or' operator returns True if at least one of the conditions is true. The 'not' operator is used to reverse the Boolean value of an expression—so if a condition is true, not will make it false, and vice versa. These operators are commonly used in if statements and loops to make decisions based on multiple conditions in a program.\n",
        "  \n",
        "9. What is type casting in Python?\n",
        "   - Type casting in Python, also known as type conversion, is the process of converting a value from one data type to another. This is crucial when operations require compatibility between different data types or when data needs to be presented in a specific format.\n",
        "\n",
        "     There are two types of type casting: Implicit typecasting and Explicit typecasting.\n",
        "\n",
        "10. What is the difference between implicit and explicit type casting?\n",
        "    - The difference between Implicit and Explicit typecasting is:\n",
        "\n",
        "     - Implicit typecasting: The Python interpreter automatically converts one data type to another without explicit user intervention. This typically occurs in expressions where different data types are involved, and Python promotes the \"lower\" data type to a \"higher\" data type to avoid data loss (e.g., an integer being converted to a float when added to a float).\n",
        "     Example:\n",
        "              x = 10  (int)\n",
        "              y = 5.5 (float)\n",
        "              z = x + y (Implicit conversion of x to float)\n",
        "              print(z)\n",
        "              print(type(z))\n",
        "    \n",
        "     - Explicit typcasting: This involves the programmer explicitly converting a data type using built-in functions. These functions act as constructors for the desired data type. Explicit type casting allows for precise control over data types and is necessary when automatic conversion is not sufficient or would lead to data loss in unintended ways.\n",
        "\n",
        "       Common explicit type casting functions include:\n",
        "          - int(): Converts to an integer. It truncates decimals when converting from a float and expects a string representing a whole number when converting from a string.\n",
        "          - float(): Converts to a floating-point number.\n",
        "          - str(): Converts to a string.\n",
        "          - bool(): Converts to a boolean (True or False).\n",
        "          Example:\n",
        "                 num_str = \"123\"\n",
        "                 num_int = int(num_str) # Explicit conversion of string to int\n",
        "                 print(num_int)\n",
        "                 print(type(num_int))\n",
        "\n",
        "                 float_val = 10.7\n",
        "                 int_val = int(float_val) # Explicit conversion of float to int (truncates)\n",
        "                 print(int_val)\n",
        "                 print(type(int_val))\n",
        "\n",
        "11. What is the purpose of conditional statements in Python?\n",
        "     - The purpose of conditional statements in Python is to control the flow of execution in a program based on whether certain conditions are met. They enable programs to make decisions and perform different actions depending on the outcome of a logical evaluation.\n",
        "\n",
        "     Key purposes include:\n",
        "\n",
        "        - Decision making: Conditional statements, such as if, if-else, and if-elif-else, allow the program to choose which block of code to execute based on the truthiness of a condition.\n",
        "\n",
        "        - Controlling Program flow: By evaluating conditions, these statements direct the program's path, ensuring that specific sections of code run only when relevant criteria are satisfied.\n",
        "\n",
        "        - Handling different scenarios: They enable programs to respond dynamically to varying inputs or situations, leading to more flexible and robust applications.\n",
        "\n",
        "        - Implementing logic: Conditional statements are fundamental for implementing complex logical structures and algorithms, allowing for diverse behaviors within a single program.\n",
        "\n",
        "      Conditional statements are essential tools for creating intelligent and adaptable Python programs that can react appropriately to various conditions during runtime.\n",
        "\n",
        "12. How does the elif statement work?\n",
        "     - The elif statement in Python stands for \"else if\". It is used when you want to check multiple conditions in a decision-making structure.\n",
        "      \n",
        "      Works like this:\n",
        "       -  Python checks the first if condition.\n",
        "\n",
        "       -  If it's True, it runs that block and skips the rest.\n",
        "\n",
        "       -  If it's False, Python checks each elif condition in order.\n",
        "\n",
        "       -  If any elif is True, it executes that block and skips the rest.\n",
        "\n",
        "       -  If none of the if or elif conditions are True, and there's an else, the else block is executed.\n",
        "\n",
        "       Example:\n",
        "          \n",
        "              marks = 75\n",
        "          \n",
        "              if marks >= 90:\n",
        "                  print(\"Grade A\")\n",
        "              elif marks >= 75:\n",
        "                 print(\"Grade B\")\n",
        "              elif marks >= 60:\n",
        "                 print(\"Grade C\")\n",
        "              else:\n",
        "                 print(\"Grade D\")\n",
        "\n",
        "        \"Grade B\" is printed as output.\n",
        "\n",
        "\n",
        "13.  What is the difference between for and while loops?\n",
        "     - for loop is used when we know how many times to loop, i.e. for iterating over a sequence like a list, string, or range. Used when number of iterations is pre-determined. Has low risk of infinite loop.  \n",
        "     Example:\n",
        "\n",
        "           for i in range(5):\n",
        "               print(i)\n",
        "     This will print numbers 0 to 4. It runs exactly 5 times.\n",
        "\n",
        "     - while loop is used when we don't know how many times to loop, it keeps running as long as a condition is true. It's used when the number of iterations is not fixed and depends on a condition that may change during the loop.\n",
        "     Example:\n",
        "         \n",
        "             i = 0\n",
        "             while i < 5:\n",
        "                 print(i)\n",
        "                 i += 1\n",
        "\n",
        "      This also prints 0 to 4, but the loop runs based on the condition, not a fixed range.\n",
        "\n",
        "14.  Describe a scenario where a while loop is more suitable than a for loop.\n",
        "     - A while loop is more suitable than a for loop when you don't know in advance how many times the loop should run, and the repetition depends on a condition that changes during the program's execution.\n",
        "\n",
        "      For example: Creating a login system for students that allows them to keep trying untill they enter the correct password.\n",
        "          \n",
        "             correct_password = \"entrylost456\"\n",
        "             user_input = \"\"\n",
        "\n",
        "             while user_input != correct_password:\n",
        "                 user_input = input(\"Enter password: \")\n",
        "\n",
        "             print(\"Access granted!\")\n",
        "\n",
        "      while loop is better here because, number of attempts needed is not known, loop keeps running until correct password is entered and if for loop was used instead then then it would have forced us to set a fixed number of attempts which was not ideal.\n",
        "\n",
        "        \n",
        "\n",
        "\n",
        "        \n",
        "\n",
        "\n",
        "\n",
        "\n",
        "\n",
        "\n",
        "     \n",
        "    \n",
        "\n"
      ],
      "metadata": {
        "id": "Brb4jAsqC_zS"
      }
    },
    {
      "cell_type": "markdown",
      "source": [
        "Coding questions"
      ],
      "metadata": {
        "id": "S7IR-xbRw_-N"
      }
    },
    {
      "cell_type": "markdown",
      "source": [
        "1. Write a Python program to print \"Hello, World!\""
      ],
      "metadata": {
        "id": "2jaZs35exLwr"
      }
    },
    {
      "cell_type": "code",
      "source": [
        "#program to print \"Hello, World!\"\n",
        "print(\"Hello, World!\")\n"
      ],
      "metadata": {
        "colab": {
          "base_uri": "https://localhost:8080/"
        },
        "id": "Ubl-xiHvxqXm",
        "outputId": "6ada2c7c-e4cf-42ca-d35d-8451dd090753"
      },
      "execution_count": null,
      "outputs": [
        {
          "output_type": "stream",
          "name": "stdout",
          "text": [
            "Hello, World!\n"
          ]
        }
      ]
    },
    {
      "cell_type": "markdown",
      "source": [
        "2.  Write a Python program that displays your name and age."
      ],
      "metadata": {
        "id": "ilzMpynn0MU-"
      }
    },
    {
      "cell_type": "code",
      "source": [
        "#program that displays name and age\n",
        "name = \"Shubham Jaiswal\"\n",
        "age = \"27\"\n",
        "\n",
        "print(\"My name is\", name)\n",
        "print(\"My age is\", age)"
      ],
      "metadata": {
        "colab": {
          "base_uri": "https://localhost:8080/"
        },
        "id": "zgFgTufg02lB",
        "outputId": "12338a29-1760-4cc2-85da-c8c26d38192b"
      },
      "execution_count": null,
      "outputs": [
        {
          "output_type": "stream",
          "name": "stdout",
          "text": [
            "My name is Shubham Jaiswal\n",
            "My age is 27\n"
          ]
        }
      ]
    },
    {
      "cell_type": "markdown",
      "source": [
        "3.  Write code to print all the pre-defined keywords in Python using the keyword library."
      ],
      "metadata": {
        "id": "YzQ3N00Y1k_w"
      }
    },
    {
      "cell_type": "code",
      "source": [
        "#program to print all the pre-defined keywords in Python using the keyword library\n",
        "import keyword\n",
        "keywords = keyword.kwlist\n",
        "\n",
        "print(\"Python Keywords:\")       #Printing the keywords\n",
        "for word in keywords:\n",
        "    print(word)\n"
      ],
      "metadata": {
        "colab": {
          "base_uri": "https://localhost:8080/"
        },
        "id": "5kxNRONx1wVq",
        "outputId": "9b35f6b0-e3d7-4afa-c163-beb44b0de9ca"
      },
      "execution_count": null,
      "outputs": [
        {
          "output_type": "stream",
          "name": "stdout",
          "text": [
            "Python Keywords:\n",
            "False\n",
            "None\n",
            "True\n",
            "and\n",
            "as\n",
            "assert\n",
            "async\n",
            "await\n",
            "break\n",
            "class\n",
            "continue\n",
            "def\n",
            "del\n",
            "elif\n",
            "else\n",
            "except\n",
            "finally\n",
            "for\n",
            "from\n",
            "global\n",
            "if\n",
            "import\n",
            "in\n",
            "is\n",
            "lambda\n",
            "nonlocal\n",
            "not\n",
            "or\n",
            "pass\n",
            "raise\n",
            "return\n",
            "try\n",
            "while\n",
            "with\n",
            "yield\n"
          ]
        }
      ]
    },
    {
      "cell_type": "markdown",
      "source": [
        "4. Write a program that checks if a given word is a Python keyword."
      ],
      "metadata": {
        "id": "1SVYe_Lf4PZk"
      }
    },
    {
      "cell_type": "code",
      "source": [
        "#program that checks if a given word is a python keyword\n",
        "import keyword\n",
        "word = input(\"Enter a word: \")    #Take input from user\n",
        "\n",
        "# Check if the word is a Python keyword\n",
        "if keyword.iskeyword(word):\n",
        "    print(f\"'{word}' is a Python keyword.\")\n",
        "else:\n",
        "    print(f\"'{word}' is NOT a Python keyword.\")\n"
      ],
      "metadata": {
        "colab": {
          "base_uri": "https://localhost:8080/"
        },
        "id": "CmDrdzey4YHv",
        "outputId": "a2c6523b-c667-4093-d48d-94ecb435fd16"
      },
      "execution_count": null,
      "outputs": [
        {
          "output_type": "stream",
          "name": "stdout",
          "text": [
            "Enter a word: False\n",
            "'False' is a Python keyword.\n"
          ]
        }
      ]
    },
    {
      "cell_type": "markdown",
      "source": [
        "5.  Create a list and tuple in Python, and demonstrate how attempting to change an element works differently\n",
        "for each."
      ],
      "metadata": {
        "id": "OXp-4gfIHPFT"
      }
    },
    {
      "cell_type": "code",
      "source": [
        "#program to create a list and tuple in python and demonstrate how attempting to change an element works differently for each\n",
        "my_list = [10, 20, 30]            #Creating a list and a tuple\n",
        "my_tuple = (10, 20, 30)\n",
        "\n",
        "print(\"Original list:\", my_list)  #Changing an element in the list\n",
        "my_list[1] = 99\n",
        "print(\"Changed list:\", my_list)\n",
        "\n",
        "print(\"Original tuple:\", my_tuple)  #Trying to change an element in the tuple\n",
        "try:\n",
        "    my_tuple[1] = 99\n",
        "except TypeError as e:\n",
        "    print(\"Error:\", e)\n"
      ],
      "metadata": {
        "colab": {
          "base_uri": "https://localhost:8080/"
        },
        "id": "uzJfylkDHQIE",
        "outputId": "aff22051-5cf0-4f3d-c5f5-c5b7eb69870f"
      },
      "execution_count": null,
      "outputs": [
        {
          "output_type": "stream",
          "name": "stdout",
          "text": [
            "Original list: [10, 20, 30]\n",
            "Changed list: [10, 99, 30]\n",
            "Original tuple: (10, 20, 30)\n",
            "Error: 'tuple' object does not support item assignment\n"
          ]
        }
      ]
    },
    {
      "cell_type": "markdown",
      "source": [
        "6.  Write a function to demonstrate the behavior of mutable and immutable arguments."
      ],
      "metadata": {
        "id": "ZplYygihJnuk"
      }
    },
    {
      "cell_type": "code",
      "source": [
        "#function to demonstrate the behavior of mutable and immutable arguments\n",
        "def modify_arguments(a, b):\n",
        "    a = a + 12        # 'a' is an integer (immutable)\n",
        "    b.append(4)        # 'b' is a list (mutable)\n",
        "    print(\"Inside function - a:\", a)\n",
        "    print(\"Inside function - b:\", b)\n",
        "\n",
        "# Immutable: integer\n",
        "x = 5\n",
        "\n",
        "# Mutable: list\n",
        "y = [1, 2, 3]\n",
        "\n",
        "modify_arguments(x, y)\n",
        "\n",
        "print(\"Outside function - x:\", x)  # unchanged\n",
        "print(\"Outside function - y:\", y)  # changed\n"
      ],
      "metadata": {
        "colab": {
          "base_uri": "https://localhost:8080/"
        },
        "id": "ei2KJmsXJwm-",
        "outputId": "cd87b9b3-6949-456d-f406-1a54454e7c37"
      },
      "execution_count": null,
      "outputs": [
        {
          "output_type": "stream",
          "name": "stdout",
          "text": [
            "Inside function - a: 17\n",
            "Inside function - b: [1, 2, 3, 4]\n",
            "Outside function - x: 5\n",
            "Outside function - y: [1, 2, 3, 4]\n"
          ]
        }
      ]
    },
    {
      "cell_type": "markdown",
      "source": [
        "7. Write a program that performs basic arithmetic operations on two user-input numbers."
      ],
      "metadata": {
        "id": "qIYvMUVdkAIX"
      }
    },
    {
      "cell_type": "code",
      "source": [
        "#program that performs basic arithmetic operations on two user-input numbers\n",
        "a = float(input(\"Enter first number: \"))     #Take user input\n",
        "b = float(input(\"Enter second number: \"))\n",
        "\n",
        "print(\"Addition:\", a + b)      #doing arithmetic operations\n",
        "print(\"Subtraction:\", a - b)\n",
        "print(\"Multiplication:\", a * b)\n",
        "\n",
        "if b != 0:                        #Checking for division by zero\n",
        "    print(\"Division:\", a / b)\n",
        "    print(\"Modulus:\", a % b)\n",
        "else:\n",
        "    print(\"Division and Modulus not possible (division by zero)\")\n"
      ],
      "metadata": {
        "colab": {
          "base_uri": "https://localhost:8080/"
        },
        "id": "I6IxUdDSkYkH",
        "outputId": "d832433e-4297-45b2-c755-ff0923c15fea"
      },
      "execution_count": null,
      "outputs": [
        {
          "output_type": "stream",
          "name": "stdout",
          "text": [
            "Enter first number: 67\n",
            "Enter second number: 78\n",
            "Addition: 145.0\n",
            "Subtraction: -11.0\n",
            "Multiplication: 5226.0\n",
            "Division: 0.8589743589743589\n",
            "Modulus: 67.0\n"
          ]
        }
      ]
    },
    {
      "cell_type": "markdown",
      "source": [
        "8. Write a program to demonstrate the use of logical operators."
      ],
      "metadata": {
        "id": "mHbszvn5pSq_"
      }
    },
    {
      "cell_type": "code",
      "source": [
        "#program to demonstrate the use of logical operators\n",
        "a = int(input(\"Enter first number: \"))   #Take input from user\n",
        "b = int(input(\"Enter second number: \"))\n",
        "\n",
        "if a > 0 and b > 0:                      #Demonstrating logical AND\n",
        "    print(\"Both numbers are positive.\")\n",
        "\n",
        "if a > 0 or b > 0:                       #Demonstrating logical OR\n",
        "    print(\"At least one number is positive.\")\n",
        "\n",
        "if not (a < 0):                          #Demonstrating logical NOT\n",
        "    print(\"a is NOT negative.\")\n"
      ],
      "metadata": {
        "colab": {
          "base_uri": "https://localhost:8080/"
        },
        "id": "EPbHBSGhrJCI",
        "outputId": "1e5ff791-69eb-438d-cb2a-2884b8bd4bc5"
      },
      "execution_count": null,
      "outputs": [
        {
          "output_type": "stream",
          "name": "stdout",
          "text": [
            "Enter first number: 0\n",
            "Enter second number: -1\n",
            "a is NOT negative.\n"
          ]
        }
      ]
    },
    {
      "cell_type": "markdown",
      "source": [
        "9.  Write a Python program to convert user input from string to integer, float, and boolean types."
      ],
      "metadata": {
        "id": "-OfNP4G-uU1U"
      }
    },
    {
      "cell_type": "code",
      "source": [
        "#program to convert user input from string to integer, float, and boolean types\n",
        "user_input = input(\"Enter a value: \")     #Take user input as string\n",
        "\n",
        "try:                                      #Convert to integer\n",
        "    int_value = int(user_input)\n",
        "    print(\"As Integer:\", int_value)\n",
        "except ValueError:\n",
        "    print(\"Cannot convert to Integer.\")\n",
        "\n",
        "try:                                      #Convert to float\n",
        "    float_value = float(user_input)\n",
        "    print(\"As Float:\", float_value)\n",
        "except ValueError:\n",
        "    print(\"Cannot convert to Float.\")\n",
        "\n",
        "bool_value = bool(user_input)             #Convert to boolean\n",
        "print(\"As Boolean:\", bool_value)\n"
      ],
      "metadata": {
        "colab": {
          "base_uri": "https://localhost:8080/"
        },
        "id": "RQoqKdyvufht",
        "outputId": "6cebcf7c-04f9-49f8-80b7-5e8a630dcae0"
      },
      "execution_count": null,
      "outputs": [
        {
          "output_type": "stream",
          "name": "stdout",
          "text": [
            "Enter a value: -9\n",
            "As Integer: -9\n",
            "As Float: -9.0\n",
            "As Boolean: True\n"
          ]
        }
      ]
    },
    {
      "cell_type": "markdown",
      "source": [
        "10.  Write code to demonstrate type casting with list elements."
      ],
      "metadata": {
        "id": "oRnH8E9UNNTR"
      }
    },
    {
      "cell_type": "code",
      "source": [
        "#program to demonstrate type casting with list elements\n",
        "str_list = [\"10\", \"20\", \"30\"]              #Convert list of strings to integers\n",
        "int_list = [int(x) for x in str_list]\n",
        "print(\"String to Integer:\", int_list)\n",
        "\n",
        "float_list = [float(x) for x in str_list]  #Convert list of strings to floats\n",
        "print(\"String to Float:\", float_list)\n",
        "\n",
        "num_list = [1, 2, 3]                       #Convert list of integers to strings\n",
        "str_version = [str(x) for x in num_list]\n",
        "print(\"Integer to String:\", str_version)\n",
        "\n",
        "mixed_list = [\"1\", 2, \"3.5\"]               #Convert mixed types to floats\n",
        "mixed_float = [float(x) for x in mixed_list]\n",
        "print(\"Mixed to Float:\", mixed_float)\n"
      ],
      "metadata": {
        "colab": {
          "base_uri": "https://localhost:8080/"
        },
        "id": "sCjMybx_NODl",
        "outputId": "e13f92cc-1447-41e7-af40-f2356c85804b"
      },
      "execution_count": null,
      "outputs": [
        {
          "output_type": "stream",
          "name": "stdout",
          "text": [
            "String to Integer: [10, 20, 30]\n",
            "String to Float: [10.0, 20.0, 30.0]\n",
            "Integer to String: ['1', '2', '3']\n",
            "Mixed to Float: [1.0, 2.0, 3.5]\n"
          ]
        }
      ]
    },
    {
      "cell_type": "markdown",
      "source": [
        "11.  Write a program that checks if a number is positive, negative, or zero."
      ],
      "metadata": {
        "id": "QGxv5bNrUiGZ"
      }
    },
    {
      "cell_type": "code",
      "source": [
        "#program to check if a number is positive, negative or zero\n",
        "num = float(input(\"Enter a number: \"))         #Take input from user\n",
        "\n",
        "if num > 0:                                    #Check and display result\n",
        "    print(\"The number is positive.\")\n",
        "elif num < 0:\n",
        "    print(\"The number is negative.\")\n",
        "else:\n",
        "    print(\"The number is zero.\")\n"
      ],
      "metadata": {
        "colab": {
          "base_uri": "https://localhost:8080/"
        },
        "id": "5LmXeQ9UUoJD",
        "outputId": "594ff510-5fb4-4b87-f351-f1beccda7daa"
      },
      "execution_count": null,
      "outputs": [
        {
          "output_type": "stream",
          "name": "stdout",
          "text": [
            "Enter a number: 76\n",
            "The number is positive.\n"
          ]
        }
      ]
    },
    {
      "cell_type": "markdown",
      "source": [
        "12. Write a for loop to print numbers from 1 to 10."
      ],
      "metadata": {
        "id": "5nNJNv2_VVhn"
      }
    },
    {
      "cell_type": "code",
      "source": [
        "#program to print numbers from 1 to 10 using for loop\n",
        "for i in range(1, 11):\n",
        "    print(i)\n"
      ],
      "metadata": {
        "colab": {
          "base_uri": "https://localhost:8080/"
        },
        "id": "4DTaZ41wVaeZ",
        "outputId": "b9cf2c3a-7025-4826-b5b6-9c9fe31ca508"
      },
      "execution_count": null,
      "outputs": [
        {
          "output_type": "stream",
          "name": "stdout",
          "text": [
            "1\n",
            "2\n",
            "3\n",
            "4\n",
            "5\n",
            "6\n",
            "7\n",
            "8\n",
            "9\n",
            "10\n"
          ]
        }
      ]
    },
    {
      "cell_type": "markdown",
      "source": [
        "13. Write a Python program to find the sum of all even numbers between 1 and 50."
      ],
      "metadata": {
        "id": "pCanY28uWN1F"
      }
    },
    {
      "cell_type": "code",
      "source": [
        "#program to find the sum of all even numbers between 1 and 50\n",
        "total = 0                     #Initialize sum\n",
        "\n",
        "for i in range(1, 51):        #Loop through numbers 1 to 50\n",
        "    if i % 2 == 0:\n",
        "        total += i\n",
        "\n",
        "print(\"Sum of even numbers from 1 to 50 is:\", total)\n"
      ],
      "metadata": {
        "colab": {
          "base_uri": "https://localhost:8080/"
        },
        "id": "OhorSbmjcrj4",
        "outputId": "89eae78e-4ee6-4b36-d468-4e2df48e5b92"
      },
      "execution_count": null,
      "outputs": [
        {
          "output_type": "stream",
          "name": "stdout",
          "text": [
            "Sum of even numbers from 1 to 50 is: 650\n"
          ]
        }
      ]
    },
    {
      "cell_type": "markdown",
      "source": [
        "14.  Write a program to reverse a string using a while loop."
      ],
      "metadata": {
        "id": "Xpc9CttWdrsP"
      }
    },
    {
      "cell_type": "code",
      "source": [
        "#program to reverse a string using a while loop\n",
        "text = input(\"Enter a string: \")        #Take input from user\n",
        "\n",
        "reversed_text = \"\"                      #Initialize variables\n",
        "index = len(text) - 1\n",
        "\n",
        "while index >= 0:               #Loop through the string in reverse using while\n",
        "    reversed_text += text[index]\n",
        "    index -= 1\n",
        "\n",
        "print(\"Reversed string:\", reversed_text)    #Print the reversed string\n"
      ],
      "metadata": {
        "id": "O6qRvZUkdvvW",
        "colab": {
          "base_uri": "https://localhost:8080/"
        },
        "outputId": "ba13b154-0673-481b-b019-945081ff697e"
      },
      "execution_count": 12,
      "outputs": [
        {
          "output_type": "stream",
          "name": "stdout",
          "text": [
            "Enter a string: computer\n",
            "Reversed string: retupmoc\n"
          ]
        }
      ]
    },
    {
      "cell_type": "markdown",
      "source": [
        "15. . Write a Python program to calculate the factorial of a number provided by the user using a while loop."
      ],
      "metadata": {
        "id": "Iy4UfAwbz80Y"
      }
    },
    {
      "cell_type": "code",
      "source": [
        "#program to calculate the factorial of a number provided by the user using a while loop\n",
        "num = int(input(\"Enter a number: \"))    #Take input from user\n",
        "\n",
        "factorial = 1             #Initialize factorial result\n",
        "i = 1\n",
        "\n",
        "if num < 0:           #for handling negative input\n",
        "    print(\"Factorial is not defined for negative numbers.\")\n",
        "else:\n",
        "    while i <= num:\n",
        "        factorial *= i\n",
        "        i += 1\n",
        "    print(\"Factorial of\", num, \"is:\", factorial)\n"
      ],
      "metadata": {
        "colab": {
          "base_uri": "https://localhost:8080/"
        },
        "id": "YQM9TToT0EtP",
        "outputId": "0c90b5b2-d225-40f3-f49d-6ead5150ccd7"
      },
      "execution_count": 16,
      "outputs": [
        {
          "output_type": "stream",
          "name": "stdout",
          "text": [
            "Enter a number: 6\n",
            "Factorial of 6 is: 720\n"
          ]
        }
      ]
    },
    {
      "cell_type": "code",
      "source": [],
      "metadata": {
        "id": "f85rHCT207GP"
      },
      "execution_count": null,
      "outputs": []
    },
    {
      "cell_type": "code",
      "source": [],
      "metadata": {
        "id": "RaUf8p8405m5"
      },
      "execution_count": null,
      "outputs": []
    },
    {
      "cell_type": "code",
      "source": [],
      "metadata": {
        "id": "zm3u4gDs04G3"
      },
      "execution_count": null,
      "outputs": []
    },
    {
      "cell_type": "code",
      "source": [],
      "metadata": {
        "id": "IycWOdPI01-8"
      },
      "execution_count": null,
      "outputs": []
    },
    {
      "cell_type": "code",
      "source": [],
      "metadata": {
        "id": "vQe4Xc4uz00y"
      },
      "execution_count": null,
      "outputs": []
    },
    {
      "cell_type": "code",
      "source": [],
      "metadata": {
        "id": "jsXisi6wztoW"
      },
      "execution_count": null,
      "outputs": []
    },
    {
      "cell_type": "code",
      "source": [],
      "metadata": {
        "id": "X-nLPzVndqUc"
      },
      "execution_count": null,
      "outputs": []
    },
    {
      "cell_type": "code",
      "source": [],
      "metadata": {
        "id": "gK5JEYpkWLn3"
      },
      "execution_count": null,
      "outputs": []
    }
  ]
}